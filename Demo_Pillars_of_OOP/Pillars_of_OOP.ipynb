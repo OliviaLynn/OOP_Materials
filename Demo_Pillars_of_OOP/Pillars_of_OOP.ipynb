{
 "cells": [
  {
   "cell_type": "markdown",
   "metadata": {},
   "source": [
    "# The Pillars of OOP"
   ]
  },
  {
   "cell_type": "markdown",
   "metadata": {},
   "source": [
    "## Initial Set Up"
   ]
  },
  {
   "cell_type": "code",
   "execution_count": 4,
   "metadata": {},
   "outputs": [],
   "source": [
    "# Ignore this; just avoiding linter warnings in my editor:\n",
    "# ruff: noqa\n",
    "\n",
    "# Notes to self, when presenting:\n",
    "# ⌘+K Z : zen mode\n",
    "# ⌘+J : toggle terminal"
   ]
  },
  {
   "cell_type": "markdown",
   "metadata": {},
   "source": [
    "### Basic syntax"
   ]
  },
  {
   "cell_type": "code",
   "execution_count": 5,
   "metadata": {},
   "outputs": [
    {
     "name": "stdout",
     "output_type": "stream",
     "text": [
      "6\n"
     ]
    }
   ],
   "source": [
    "class ClassName: # note the PascalCase (everything else is snake_case)\n",
    "    def __init__(self, x, y): # this is the constructor\n",
    "        self.x = x  # these are attributes\n",
    "        self.y = y  # these are attributes\n",
    "\n",
    "    def method_name(self, z): # this is a method\n",
    "        return self.x + self.y + z\n",
    "\n",
    "my_instance = ClassName(1, 2) # this is an instance of the class\n",
    "print(my_instance.method_name(3)) # prints 6"
   ]
  },
  {
   "cell_type": "markdown",
   "metadata": {},
   "source": [
    "## Pillar 1: Encapsulation"
   ]
  },
  {
   "cell_type": "markdown",
   "metadata": {},
   "source": [
    "→ Keep important information inside the object\n",
    "\n",
    "→ Expose only the necessary information\n",
    "\n",
    "→ Benefits: \n",
    "- adds security \n",
    "- minimizes accidental changes\n",
    "- improves organization"
   ]
  },
  {
   "cell_type": "code",
   "execution_count": null,
   "metadata": {},
   "outputs": [],
   "source": [
    "# Before\n",
    "\n",
    "contents_of_blender = []\n",
    "is_blender_plugged_in = False    \n",
    "blender_capacity = 5\n",
    "if len(contents_of_blender) >= blender_capacity:\n",
    "    print(\"Blender is full!\")"
   ]
  },
  {
   "cell_type": "code",
   "execution_count": 1,
   "metadata": {},
   "outputs": [],
   "source": [
    "# After\n",
    "\n",
    "class Blender:\n",
    "    def __init__(self, capacity=5):\n",
    "        self.contents = []  # Encapsulated attribute\n",
    "        self.capacity = capacity  # Encapsulated attribute\n",
    "        self.__is_plugged_in = False  # Encapsulated attribute\n",
    "    \n",
    "    def is_full(self):  # Encapsulated method\n",
    "        return len(self.contents) >= self.capacity\n",
    "\n",
    "blender = Blender()\n",
    "if blender.is_full():\n",
    "    print(\"Blender is full!\")"
   ]
  },
  {
   "cell_type": "markdown",
   "metadata": {},
   "source": [
    "## Pillar 2: Abstraction"
   ]
  },
  {
   "cell_type": "markdown",
   "metadata": {},
   "source": [
    "→ Reveal only relevant parts\n",
    "\n",
    "→ Hide unnecessary details\n",
    "\n",
    "→ Benefits: \n",
    "- easier to update and maintain\n",
    "- can also make collaboration easier"
   ]
  },
  {
   "cell_type": "code",
   "execution_count": null,
   "metadata": {},
   "outputs": [],
   "source": [
    "# Before\n",
    "\n",
    "class Strawberry:\n",
    "    def __init__(self, name=\"strawberry\"):\n",
    "        self.name = name\n",
    "        self.is_washed = False\n",
    "        self.is_deleafed = False\n",
    "\n",
    "    def wash(self):\n",
    "        print(\"Washing strawberry\")\n",
    "        self.is_washed = True\n",
    "\n",
    "    def deleaf(self):\n",
    "        print(\"Deleafing strawberry\")\n",
    "        self.is_deleafed = True"
   ]
  },
  {
   "cell_type": "code",
   "execution_count": null,
   "metadata": {},
   "outputs": [],
   "source": [
    "# After\n",
    "\n",
    "class Strawberry:\n",
    "    def __init__(self, name=\"strawberry\"):\n",
    "        self.name = name\n",
    "        self.is_washed = False\n",
    "        self.is_deleafed = False\n",
    "\n",
    "    def wash(self):\n",
    "        print(\"Washing strawberry\")\n",
    "        self.is_washed = True\n",
    "\n",
    "    def deleaf(self):\n",
    "        print(\"Deleafing strawberry\")\n",
    "        self.is_deleafed = True\n",
    "\n",
    "    def prepare(self):  # Abstracts the preparation steps into one method\n",
    "        self.wash()\n",
    "        self.deleaf()"
   ]
  },
  {
   "cell_type": "markdown",
   "metadata": {},
   "source": [
    "## Pillar 3: Inheritance"
   ]
  },
  {
   "cell_type": "markdown",
   "metadata": {},
   "source": [
    "→ Reuse code from parent classes\n",
    "\n",
    "→ Establish hierarchy between classes\n",
    "\n",
    "→ Benefits: \n",
    "- reduces development time\n",
    "- avoids code duplication (and divergent development)"
   ]
  },
  {
   "cell_type": "code",
   "execution_count": null,
   "metadata": {},
   "outputs": [],
   "source": [
    "# Before\n",
    "\n",
    "class Strawberry:\n",
    "    def __init__(self, name=\"strawberry\"):\n",
    "        self.name = name\n",
    "        self.is_washed = False\n",
    "        self.is_deleafed = False\n",
    "\n",
    "    def wash(self):\n",
    "        print(\"Washing strawberry\")\n",
    "        self.is_washed = True\n",
    "\n",
    "    def deleaf(self):\n",
    "        print(\"De-leafing strawberry\")\n",
    "        self.is_deleafed = True\n",
    "    \n",
    "    def prepare(self):\n",
    "        self.wash()\n",
    "        self.deleaf()"
   ]
  },
  {
   "cell_type": "code",
   "execution_count": null,
   "metadata": {},
   "outputs": [],
   "source": [
    "# After\n",
    "\n",
    "class Fruit:\n",
    "    def __init__(self, name):\n",
    "        self.name = name\n",
    "        self.is_washed = False\n",
    "        self.is_deleafed = False\n",
    "\n",
    "    # ...\n",
    "\n",
    "    def wash(self):\n",
    "        print(f\"Washing {self.name}\")\n",
    "        self.is_washed = True\n",
    "\n",
    "\n",
    "class Strawberry(Fruit):\n",
    "    def __init__(self, name=\"strawberry\"):\n",
    "        super().__init__(name)  # Calls the parent class's constructor\n",
    "\n",
    "    # ...\n",
    "    \n",
    "    def prepare(self):\n",
    "        super().wash()  # We now store the wash method in the parent class\n",
    "        self.deleaf()"
   ]
  },
  {
   "cell_type": "markdown",
   "metadata": {},
   "source": [
    "## Pillar 4: Polymorphism"
   ]
  },
  {
   "cell_type": "markdown",
   "metadata": {},
   "source": [
    "- Share behaviors across objects\n",
    "\n",
    "- There are two types: static (overloading) and dynamic (overriding)\n",
    "\n",
    "Note: Python primarily supports dynamic polymorphism due to its dynamic nature, while static polymorphism is less common but achievable using specific techniques."
   ]
  },
  {
   "cell_type": "markdown",
   "metadata": {},
   "source": [
    "### Static/compile-time polymorphism\n",
    "\n",
    "- **Method Overloading:** Defining multiple methods with the same name but different parameters within the same class.\n",
    "\n",
    "- **Operator Overloading:** Defining different operations for a given operator based on the operands.\n",
    "\n",
    "TODO write script for this"
   ]
  },
  {
   "cell_type": "code",
   "execution_count": 5,
   "metadata": {},
   "outputs": [
    {
     "name": "stdout",
     "output_type": "stream",
     "text": [
      "No arguments\n",
      "One argument: 10, which is a int\n"
     ]
    }
   ],
   "source": [
    "# Method overloading\n",
    "\n",
    "class Example:\n",
    "    def method(self, x=None):\n",
    "        if x is None:\n",
    "            print(\"No arguments\")\n",
    "        else:\n",
    "            print(f\"One argument: {x}, which is a(n) {type(x).__name__}\")\n",
    "\n",
    "example = Example()\n",
    "example.method()       # No arguments\n",
    "example.method(10)     # One argument: 10, which is a(n) int"
   ]
  },
  {
   "cell_type": "code",
   "execution_count": 7,
   "metadata": {},
   "outputs": [
    {
     "name": "stdout",
     "output_type": "stream",
     "text": [
      "A smoothie made of banana, strawberry\n"
     ]
    }
   ],
   "source": [
    "# Operator overloading\n",
    "\n",
    "class Smoothie:\n",
    "    def __init__(self, contents):\n",
    "        self.contents = contents[:]\n",
    "    \n",
    "    def __add__(self, other):\n",
    "        return Smoothie(self.contents + other.contents)\n",
    "    \n",
    "    def __repr__(self):\n",
    "        return f\"A smoothie made of {', '.join(map(str, self.contents))}\"\n",
    "\n",
    "smoothie1 = Smoothie([\"banana\"])\n",
    "smoothie2 = Smoothie([\"strawberry\"])\n",
    "combined_smoothie = smoothie1 + smoothie2\n",
    "print(combined_smoothie)  # A smoothie made of banana, strawberry\n"
   ]
  },
  {
   "cell_type": "markdown",
   "metadata": {},
   "source": [
    "### Dynamic/run-time polymorphism\n",
    "\n",
    "- **Method Overriding:** Redefining a method in a subclass that already exists in the parent class. The method in the subclass has the same name, return type, and parameters as the one in the parent class."
   ]
  },
  {
   "cell_type": "code",
   "execution_count": null,
   "metadata": {},
   "outputs": [],
   "source": [
    "# TODO check if child can call private method from parent\n",
    "\n",
    "class Fruit:\n",
    "    def __init__(self, name):\n",
    "        self.name = name\n",
    "        self.is_prepared = False\n",
    "\n",
    "    # ...\n",
    "\n",
    "    def prepare(self): # Abstract method\n",
    "        raise NotImplementedError(\"Abstract method: this method should be overridden in subclasses\")\n",
    "\n",
    "class Banana(Fruit):\n",
    "    def __init__(self):\n",
    "        super().__init__(\"banana\")\n",
    "        self.is_peeled = False\n",
    "\n",
    "    def peel(self):\n",
    "        print(\"Peeling banana\")\n",
    "        self.is_peeled = True\n",
    "\n",
    "    def prepare(self):\n",
    "        self.peel()\n",
    "        self.is_prepared = True\n",
    "\n",
    "class Strawberry(Fruit):\n",
    "    def __init__(self):\n",
    "        super().__init__(\"strawberry\")\n",
    "        self.is_deleafed = False\n",
    "\n",
    "    # ...\n",
    "\n",
    "    def prepare(self):\n",
    "        super().wash()\n",
    "        self.deleaf()\n",
    "        self.is_prepared = True\n",
    "\n",
    "class Pineapple(Fruit):\n",
    "    def __init__(self):\n",
    "        super().__init__(\"pineapple\")\n",
    "        self.is_cored = False\n",
    "\n",
    "    def core(self):\n",
    "        print(\"Coring pineapple\")\n",
    "        self.is_cored = True\n",
    "\n",
    "    def prepare(self):\n",
    "        self.core()\n",
    "        self.is_prepared = True\n",
    "\n",
    "if __name__ == \"__main__\":\n",
    "    ingredients = [Banana(), Strawberry()]\n",
    "    for ingredient in ingredients:\n",
    "        ingredient.prepare()  # Calls the overridden prepare method"
   ]
  },
  {
   "cell_type": "markdown",
   "metadata": {},
   "source": [
    "## Final Remarks"
   ]
  },
  {
   "cell_type": "markdown",
   "metadata": {},
   "source": [
    "TODO:\n",
    "summarize pillars\n",
    "summarize benefits"
   ]
  },
  {
   "cell_type": "markdown",
   "metadata": {},
   "source": [
    "**Benefits**\n",
    "- Modularity: Self-contained objects; easier debugging and collaboration.\n",
    "- Reusability: Inheritance allows code reuse.\n",
    "- Scalability: Implement different functionalities independently.\n",
    "- Security: Encapsulation and abstraction hide sensitive code.\n",
    "- Flexibility: Polymorphism enables object interchangeability.\n",
    "- Maintainability: Clear modular structure simplifies updates and maintenance.\n",
    "- Extensibility: New features can be added with minimal changes.\n",
    "- Improved Design: Encourages better organization and design (e.g., SOLID principles).\n",
    "- Real-World Modeling: Natural mapping to real-world entities.\n",
    "- Reduced Redundancy: Avoids redundancy through common code usage.\n",
    "\n",
    "\n",
    "- **Criticisms**\n",
    "    - Focus on Objects: May overshadow algorithms and functional aspects.\n",
    "    - Time-Consuming: Can be time-consuming to write and compile.\n",
    "    - Steeper Learning Curve: Concepts can be difficult for beginners.\n",
    "    - Overhead: Performance overhead due to abstraction layers.\n",
    "    - Complexity: Can lead to complex and tightly coupled class hierarchies."
   ]
  }
 ],
 "metadata": {
  "kernelspec": {
   "display_name": "scratch",
   "language": "python",
   "name": "python3"
  },
  "language_info": {
   "codemirror_mode": {
    "name": "ipython",
    "version": 3
   },
   "file_extension": ".py",
   "mimetype": "text/x-python",
   "name": "python",
   "nbconvert_exporter": "python",
   "pygments_lexer": "ipython3",
   "version": "3.10.13"
  }
 },
 "nbformat": 4,
 "nbformat_minor": 2
}
